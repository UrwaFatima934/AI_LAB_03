{
 "cells": [
  {
   "cell_type": "markdown",
   "id": "cd4a7511-9639-4825-a2c8-8fa760a5d5f4",
   "metadata": {},
   "source": [
    "#Task1-Students Marks&Grades"
   ]
  },
  {
   "cell_type": "code",
   "execution_count": 12,
   "id": "b0cbd203-4eb2-419b-8c31-a0bf7f3f897a",
   "metadata": {},
   "outputs": [
    {
     "name": "stdout",
     "output_type": "stream",
     "text": [
      "Ali: 85 -> Grade: A\n",
      "Sara: 67 -> Grade: B\n",
      "Bilal: 45 -> Grade: Fail\n"
     ]
    }
   ],
   "source": [
    "students = {\"Ali\": 85, \"Sara\": 67, \"Bilal\": 45}\n",
    "\n",
    "def print_result(data):\n",
    "    \"\"\"\n",
    "    This function takes a dictionary of student:marks\n",
    "    and prints each student's marks with grade.\n",
    "    \"\"\"\n",
    "    for name, marks in data.items():\n",
    "        if marks >= 80:\n",
    "            grade = \"A\"\n",
    "        elif marks >= 60:\n",
    "            grade = \"B\"\n",
    "        elif marks >= 50:\n",
    "            grade = \"C\"\n",
    "        else:\n",
    "            grade = \"Fail\"\n",
    "        print(f\"{name}: {marks} -> Grade: {grade}\")\n",
    "\n",
    "# Call the function\n",
    "print_result(students)\n"
   ]
  },
  {
   "cell_type": "markdown",
   "id": "8abcc8d6-49d2-4135-9059-9a9da117925c",
   "metadata": {},
   "source": [
    "#Task 2: Word Counter"
   ]
  },
  {
   "cell_type": "code",
   "execution_count": 13,
   "id": "4ea9dc55-31a4-4427-85e3-3f4b3663c284",
   "metadata": {},
   "outputs": [
    {
     "name": "stdin",
     "output_type": "stream",
     "text": [
      "Enter a sentence: my name is urwa\n"
     ]
    },
    {
     "name": "stdout",
     "output_type": "stream",
     "text": [
      "Word counts: {'my': 1, 'name': 1, 'is': 1, 'urwa': 1}\n"
     ]
    }
   ],
   "source": [
    "sentence = input(\"Enter a sentence:\")\n",
    "words = sentence.split()\n",
    "counter = {}\n",
    "for w in words:\n",
    "    w = w.lower() \n",
    "    if w in counter:\n",
    "        counter[w] += 1\n",
    "    else:\n",
    "        counter[w] = 1\n",
    "print(\"Word counts:\", counter)"
   ]
  },
  {
   "cell_type": "markdown",
   "id": "8a74ec62-1261-4afe-af42-2d6d7e2c1ba1",
   "metadata": {},
   "source": [
    "#Task 3: Simple Chatbot"
   ]
  },
  {
   "cell_type": "code",
   "execution_count": 14,
   "id": "4dd4eacc-31f8-4bb2-9907-e635c24a06a5",
   "metadata": {},
   "outputs": [
    {
     "name": "stdin",
     "output_type": "stream",
     "text": [
      "You: hi\n"
     ]
    },
    {
     "name": "stdout",
     "output_type": "stream",
     "text": [
      "Bot: Hello! How can I help you?\n"
     ]
    }
   ],
   "source": [
    "responses = {\n",
    "    \"hi\" : \"Hello! How can I help you?\",\n",
    "    \"bye\" : \"Goodbyes! Have a nice day!\",\n",
    "    \"how are you\" : \"I'm doing great, thanks!\"\n",
    "}\n",
    "user = input(\"You:\").lower()\n",
    "if user in responses:\n",
    "    print(\"Bot:\" , responses[user])\n",
    "else:\n",
    "    print(\"Bot: Sorry, I don't understand.\")"
   ]
  },
  {
   "cell_type": "markdown",
   "id": "e81be01d-1b2a-4f0e-aebe-ae9c04444de4",
   "metadata": {},
   "source": [
    "#Task 4- Movie Recommendation"
   ]
  },
  {
   "cell_type": "code",
   "execution_count": 15,
   "id": "1480bf69-b939-49e1-8a89-38328b8026e4",
   "metadata": {},
   "outputs": [
    {
     "name": "stdin",
     "output_type": "stream",
     "text": [
      "Enter genre (action/comdey/sci-fi): action\n"
     ]
    },
    {
     "name": "stdout",
     "output_type": "stream",
     "text": [
      "Watch: Spiderman\n"
     ]
    }
   ],
   "source": [
    "import random\n",
    "movies = {\n",
    "    \"action\" : [\"Avengers\", \"Batman\", \"Spiderman\"],\n",
    "    \"comedy\" : [\"Mr.Bean\", \"Home Alone\", \"The Mask\"],\n",
    "    \"sci-fi\" : [\"The Conjuring\", \"Insidious\", \"Get Out\"]\n",
    "}\n",
    "genre = input(\"Enter genre (action/comdey/sci-fi):\").lower()\n",
    "if genre in movies:\n",
    "    print(\"Watch:\" , random.choice(movies[genre]))\n",
    "else:\n",
    "    print(\"Sorry,try again, comdey, or sci-fi.\")\n",
    "    "
   ]
  },
  {
   "cell_type": "markdown",
   "id": "095a9f8e-6407-49ec-aaca-a32139289270",
   "metadata": {},
   "source": [
    "#Task 5-Weather-based Decision"
   ]
  },
  {
   "cell_type": "code",
   "execution_count": 16,
   "id": "d573c9bb-ffc0-4543-a8d1-244a4ba0ceb4",
   "metadata": {},
   "outputs": [
    {
     "name": "stdout",
     "output_type": "stream",
     "text": [
      "Take an umbrella.\n"
     ]
    }
   ],
   "source": [
    "def suggest_activity(weather):\n",
    "    weather = weather.lower()\n",
    "    if weather == \"sunny\":\n",
    "        return \"Go outside.\"\n",
    "    elif weather == \"rainy\":\n",
    "        return \"Take an umbrella.\"\n",
    "    elif weather == \"cold\":\n",
    "        return \"Stay warm at home.\"\n",
    "    elif weather == \"windy\":\n",
    "        return \"Fly a kite.\"\n",
    "    else:\n",
    "        return \"unknown weather condition.\"\n",
    "print(suggest_activity(\"rainy\"))\n",
    "        "
   ]
  },
  {
   "cell_type": "markdown",
   "id": "fac9417c-8d65-4465-a730-6b1d9a6b7c73",
   "metadata": {},
   "source": [
    "#Task 6-Mini Data Analyzer"
   ]
  },
  {
   "cell_type": "code",
   "execution_count": 18,
   "id": "be091c61-c3b6-4f05-a64b-90e6abfbb7c9",
   "metadata": {},
   "outputs": [
    {
     "name": "stdout",
     "output_type": "stream",
     "text": [
      "Numbers: [12, 45, 67, 23, 89, 34]\n",
      "Max: 89\n",
      "Min 12\n",
      "Average 45.0\n",
      "Above average: [67, 89]\n"
     ]
    }
   ],
   "source": [
    "numbers = [12, 45, 67, 23, 89, 34]\n",
    "def analyze(nums):\n",
    "    maximum = max(nums)\n",
    "    minimum = min(nums)\n",
    "    average = sum(nums) / len(nums)\n",
    "    print(\"Numbers:\", nums)\n",
    "    print(\"Max:\", maximum)\n",
    "    print(\"Min\", minimum)\n",
    "    print(\"Average\", average)\n",
    "    above_avg = [n for n in nums if n > average]\n",
    "    print(\"Above average:\", above_avg)\n",
    "analyze(numbers)\n"
   ]
  },
  {
   "cell_type": "code",
   "execution_count": null,
   "id": "1c55c757-d9aa-4945-a4e9-e0f6735ebf7a",
   "metadata": {},
   "outputs": [],
   "source": []
  }
 ],
 "metadata": {
  "kernelspec": {
   "display_name": "Python [conda env:base] *",
   "language": "python",
   "name": "conda-base-py"
  },
  "language_info": {
   "codemirror_mode": {
    "name": "ipython",
    "version": 3
   },
   "file_extension": ".py",
   "mimetype": "text/x-python",
   "name": "python",
   "nbconvert_exporter": "python",
   "pygments_lexer": "ipython3",
   "version": "3.13.5"
  }
 },
 "nbformat": 4,
 "nbformat_minor": 5
}
